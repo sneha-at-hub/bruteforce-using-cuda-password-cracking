{
  "nbformat": 4,
  "nbformat_minor": 0,
  "metadata": {
    "colab": {
      "provenance": [],
      "gpuType": "T4"
    },
    "kernelspec": {
      "name": "python3",
      "display_name": "Python 3"
    },
    "language_info": {
      "name": "python"
    },
    "accelerator": "GPU"
  },
  "cells": [
    {
      "cell_type": "markdown",
      "source": [
        "**Student Name:** Sneha Tamang\n",
        "\n",
        "**University ID:** 2358894"
      ],
      "metadata": {
        "id": "nIrbRkn1p02S"
      }
    },
    {
      "cell_type": "markdown",
      "source": [
        "# Task 3\n",
        "**# Password Cracking using CUDA (30% - 100 marks)**\n",
        "\n",
        "Using a similar concept as question 2, you will now crack passwords using CUDA. As a kernel function cannot use the crypt library, you will be given an encryption function instead which will generate a password for you.  Your program will take in an encrypted password and decrypt it using many threads on the GPU. CUDA allows multidimensional thread configurations so your kernel function (which runs on the GPU) will need to be modified according to how you call your function.\n",
        "\n",
        "**Generate encrypted password in the kernel function (using CudaCrypt function) to be compared to original encrypted password (25 marks)**\n",
        "\n",
        "**Allocating the correct amount of memory on the GPU based on input data. Memory is freed once used (15 marks)**\n",
        "\n",
        "**Program works with multiple blocks and threads – the number of blocks and threads will depend on your kernel function. You will not be penalised if your program only works with a set number of blocks and threads however, your program must use more than one block (axis is up to you) and more than one thread (axis is up to you) (40 marks)**\n",
        "\n",
        "**Decrypted password sent back to the CPU and printed (20 marks)**\n",
        "\n"
      ],
      "metadata": {
        "id": "u-kppre3pBhf"
      }
    },
    {
      "cell_type": "code",
      "source": [
        "!nvidia-smi"
      ],
      "metadata": {
        "colab": {
          "base_uri": "https://localhost:8080/"
        },
        "id": "CbVKszefojII",
        "outputId": "77dd755c-bf79-4b3c-dcb9-bd6f3ef284c5"
      },
      "execution_count": null,
      "outputs": [
        {
          "output_type": "stream",
          "name": "stdout",
          "text": [
            "Wed Jan  8 15:57:08 2025       \n",
            "+---------------------------------------------------------------------------------------+\n",
            "| NVIDIA-SMI 535.104.05             Driver Version: 535.104.05   CUDA Version: 12.2     |\n",
            "|-----------------------------------------+----------------------+----------------------+\n",
            "| GPU  Name                 Persistence-M | Bus-Id        Disp.A | Volatile Uncorr. ECC |\n",
            "| Fan  Temp   Perf          Pwr:Usage/Cap |         Memory-Usage | GPU-Util  Compute M. |\n",
            "|                                         |                      |               MIG M. |\n",
            "|=========================================+======================+======================|\n",
            "|   0  Tesla T4                       Off | 00000000:00:04.0 Off |                    0 |\n",
            "| N/A   38C    P8               9W /  70W |      0MiB / 15360MiB |      0%      Default |\n",
            "|                                         |                      |                  N/A |\n",
            "+-----------------------------------------+----------------------+----------------------+\n",
            "                                                                                         \n",
            "+---------------------------------------------------------------------------------------+\n",
            "| Processes:                                                                            |\n",
            "|  GPU   GI   CI        PID   Type   Process name                            GPU Memory |\n",
            "|        ID   ID                                                             Usage      |\n",
            "|=======================================================================================|\n",
            "|  No running processes found                                                           |\n",
            "+---------------------------------------------------------------------------------------+\n"
          ]
        }
      ]
    },
    {
      "cell_type": "code",
      "source": [
        "!nvcc --version"
      ],
      "metadata": {
        "colab": {
          "base_uri": "https://localhost:8080/"
        },
        "id": "42Deqrz-oxX1",
        "outputId": "e1d194a3-067a-416a-d364-789b366de3d8"
      },
      "execution_count": null,
      "outputs": [
        {
          "output_type": "stream",
          "name": "stdout",
          "text": [
            "nvcc: NVIDIA (R) Cuda compiler driver\n",
            "Copyright (c) 2005-2023 NVIDIA Corporation\n",
            "Built on Tue_Aug_15_22:02:13_PDT_2023\n",
            "Cuda compilation tools, release 12.2, V12.2.140\n",
            "Build cuda_12.2.r12.2/compiler.33191640_0\n"
          ]
        }
      ]
    },
    {
      "cell_type": "code",
      "source": [
        "%%writefile Encrypt.cu\n",
        "#include <stdio.h>\n",
        "#include <stdlib.h>\n",
        "#include <string.h>\n",
        "#include <cuda_runtime.h>\n",
        "\n",
        "// CUDA function to perform encryption using custom rules\n",
        "__device__ char* CudaCrypt(char* rawPassword) {\n",
        "    char *newPassword = (char *) malloc(sizeof(char) * 11);\n",
        "\n",
        "    newPassword[0] = rawPassword[0] + 2;\n",
        "    newPassword[1] = rawPassword[0] - 2;\n",
        "    newPassword[2] = rawPassword[0] + 1;\n",
        "    newPassword[3] = rawPassword[1] + 3;\n",
        "    newPassword[4] = rawPassword[1] - 3;\n",
        "    newPassword[5] = rawPassword[1] - 1;\n",
        "    newPassword[6] = rawPassword[2] + 2;\n",
        "    newPassword[7] = rawPassword[2] - 2;\n",
        "    newPassword[8] = rawPassword[3] + 4;\n",
        "    newPassword[9] = rawPassword[3] - 4;\n",
        "    newPassword[10] = '\\0';\n",
        "\n",
        "    // Apply limits for lowercase and numbers\n",
        "    for (int i = 0; i < 10; i++) {\n",
        "        if (i >= 0 && i < 6) {  // Lowercase letters\n",
        "            if (newPassword[i] > 122) {\n",
        "                newPassword[i] = (newPassword[i] - 122) + 97;\n",
        "            } else if (newPassword[i] < 97) {\n",
        "                newPassword[i] = (97 - newPassword[i]) + 97;\n",
        "            }\n",
        "        } else {  // Digits (0-9)\n",
        "            if (newPassword[i] > 57) {\n",
        "                newPassword[i] = (newPassword[i] - 57) + 48;\n",
        "            } else if (newPassword[i] < 48) {\n",
        "                newPassword[i] = (48 - newPassword[i]) + 48;\n",
        "            }\n",
        "        }\n",
        "    }\n",
        "\n",
        "    return newPassword;\n",
        "}\n",
        "\n",
        "// CUDA kernel to apply CudaCrypt function on a password\n",
        "__global__ void encrypt_kernel(char *inputPassword, char *encryptedPassword) {\n",
        "    int index = blockIdx.x * blockDim.x + threadIdx.x;\n",
        "\n",
        "    // Assume we are only processing 4 characters for simplicity here\n",
        "    if (index < 1) {\n",
        "        char rawPassword[4];\n",
        "        rawPassword[0] = inputPassword[0];\n",
        "        rawPassword[1] = inputPassword[1];\n",
        "        rawPassword[2] = inputPassword[2];\n",
        "        rawPassword[3] = inputPassword[3];\n",
        "\n",
        "        char* encrypted = CudaCrypt(rawPassword);\n",
        "\n",
        "        // Copy the encrypted password back to global memory\n",
        "        for (int i = 0; i < 10; i++) {\n",
        "            encryptedPassword[i] = encrypted[i];\n",
        "        }\n",
        "    }\n",
        "}\n",
        "\n",
        "int main(int argc, char *argv[]) {\n",
        "    // Ensure a password is provided as argument\n",
        "    if (argc < 2) {\n",
        "        printf(\"Usage: %s <password>\\n\", argv[0]);\n",
        "        return 1;\n",
        "    }\n",
        "\n",
        "    // Allocate memory for the output encrypted password\n",
        "    char encryptedPassword[11];  // 10 characters + null terminator\n",
        "\n",
        "    // Allocate device memory\n",
        "    char *d_inputPassword, *d_encryptedPassword;\n",
        "    cudaMalloc((void**)&d_inputPassword, sizeof(char) * 4);  // Assuming password is 4 characters\n",
        "    cudaMalloc((void**)&d_encryptedPassword, sizeof(char) * 11);\n",
        "\n",
        "    // Copy the input password to device memory\n",
        "    cudaMemcpy(d_inputPassword, argv[1], sizeof(char) * 4, cudaMemcpyHostToDevice);\n",
        "\n",
        "    // Launch kernel\n",
        "    encrypt_kernel<<<1, 1>>>(d_inputPassword, d_encryptedPassword);\n",
        "    cudaDeviceSynchronize();\n",
        "\n",
        "    // Copy the result back to host memory\n",
        "    cudaMemcpy(encryptedPassword, d_encryptedPassword, sizeof(char) * 11, cudaMemcpyDeviceToHost);\n",
        "\n",
        "    // Print the result (in plain text)\n",
        "    printf(\"Encrypted Password: %s\\n\", encryptedPassword);\n",
        "\n",
        "    // Free device memory\n",
        "    cudaFree(d_inputPassword);\n",
        "    cudaFree(d_encryptedPassword);\n",
        "\n",
        "    return 0;\n",
        "}\n"
      ],
      "metadata": {
        "colab": {
          "base_uri": "https://localhost:8080/"
        },
        "id": "6qCOL3V6jKpe",
        "outputId": "726ed839-b67f-4096-84d8-0978a11bf34f"
      },
      "execution_count": null,
      "outputs": [
        {
          "output_type": "stream",
          "name": "stdout",
          "text": [
            "Writing Encrypt.cu\n"
          ]
        }
      ]
    },
    {
      "cell_type": "code",
      "source": [
        "!nvcc Encrypt.cu -o cudacrup"
      ],
      "metadata": {
        "id": "QdAKBDX8jNu3"
      },
      "execution_count": null,
      "outputs": []
    },
    {
      "cell_type": "code",
      "source": [
        "!./cudacrup hp22"
      ],
      "metadata": {
        "colab": {
          "base_uri": "https://localhost:8080/"
        },
        "id": "Myg7faXFjRDv",
        "outputId": "761dc608-68a8-4e86-b72b-a33498977e3a"
      },
      "execution_count": null,
      "outputs": [
        {
          "output_type": "stream",
          "name": "stdout",
          "text": [
            "Encrypted Password: jfismo4062\n"
          ]
        }
      ]
    },
    {
      "cell_type": "code",
      "source": [
        "%%writefile passwordCrack.cu\n",
        "#include <stdio.h>\n",
        "#include <stdlib.h>\n",
        "#include <string.h>\n",
        "\n",
        "// CUDA functions for string copying and comparison, designed for GPU usage\n",
        "// We cannot use standard C functions like strcpy() or strcmp() in GPU code\n",
        "\n",
        "// Function to copy a string from source to destination on the GPU\n",
        "__device__ char * copyStr(char *dest, const char *src){\n",
        "  int i = 0;\n",
        "    // Copy each character from the source to the destination until the null terminator is reached\n",
        "  do {\n",
        "    dest[i] = src[i];\n",
        "  }\n",
        "  while (src[i++] != 0); // Increment index until null terminator is found\n",
        "  return dest; // Return pointer to the destination string\n",
        "}\n",
        "\n",
        "// Function to compare two strings on the GPU\n",
        "__device__ bool compareStr(const char *strA, const char *strB, unsigned len = 11){\n",
        "  unsigned i = 0;\n",
        "  // Loop through the characters of both strings to compare them\n",
        "  while (i < len) {\n",
        "    if (strA[i] != strB[i]) {\n",
        "      return false;  // Return false immediately if characters don't match\n",
        "    }\n",
        "    i++;\n",
        "  }\n",
        "  return true;  // Return true if all characters match\n",
        "}\n",
        "\n",
        "// Kernel function for encrypting the password\n",
        "__device__ void cudaCrypt(char *newPassword, const char *rawPassword) {\n",
        "  // Encrypt the generated password\n",
        "  newPassword[0] = rawPassword[0] + 2;\n",
        "  newPassword[1] = rawPassword[0] - 2;\n",
        "  newPassword[2] = rawPassword[0] + 1;\n",
        "  newPassword[3] = rawPassword[1] + 3;\n",
        "  newPassword[4] = rawPassword[1] - 3;\n",
        "  newPassword[5] = rawPassword[1] - 1;\n",
        "  newPassword[6] = rawPassword[2] + 2;\n",
        "  newPassword[7] = rawPassword[2] - 2;\n",
        "  newPassword[8] = rawPassword[3] + 4;\n",
        "  newPassword[9] = rawPassword[3] - 4;\n",
        "  newPassword[10] = '\\0';\n",
        "\n",
        "  // Apply range checks to ensure characters stay within certain limits\n",
        "\n",
        "  for (int i = 0; i < 10; i++) {\n",
        "    if (i >= 0 && i < 6) {\n",
        "      // Ensure characters remain in the lowercase 'a' to 'z' range\n",
        "      if (newPassword[i] > 122) {\n",
        "        newPassword[i] = (newPassword[i] - 122) + 97;  // Wrap around if greater than 'z'\n",
        "      } else if (newPassword[i] < 97) {\n",
        "        newPassword[i] = (97 - newPassword[i]) + 97;   // Wrap around if less than 'a'\n",
        "      }\n",
        "    } else {\n",
        "      // Ensure characters remain in the digit '0' to '9' range\n",
        "      if (newPassword[i] > 57) {\n",
        "        newPassword[i] = (newPassword[i] - 57) + 48; // Wrap around if greater than '9'\n",
        "      } else if (newPassword[i] < 48) {\n",
        "        newPassword[i] = (48 - newPassword[i]) + 48;  // Wrap around if less than '0'\n",
        "      }\n",
        "    }\n",
        "  }\n",
        "}\n",
        "\n",
        "// Kernel function to try all possible combinations for cracking the password\n",
        "__global__ void findPassword(char *D_chars, char *D_digits, char *D_encPwd, bool *D_passwordFound) {\n",
        "  char rawPassword[4];\n",
        "  char newPassword[11];  // To hold the encrypted password\n",
        "\n",
        "  // Generate a password combination using grid and thread indices\n",
        "  // The grid's blockIdx.x and blockIdx.y will determine which characters are picked from D_chars\n",
        "  // The thread's threadIdx.x and threadIdx.y will determine which digits are picked from D_digits\n",
        "  rawPassword[0] = D_chars[blockIdx.x]; // character based on blockIdx.x\n",
        "  rawPassword[1] = D_chars[blockIdx.y]; // character based on blockIdx.y\n",
        "  rawPassword[2] = D_digits[threadIdx.x]; // digit based on threadIdx.x\n",
        "  rawPassword[3] = D_digits[threadIdx.y]; // digit based on threadIdx.y\n",
        "\n",
        "  // Encrypt the generated password using the cudaCrypt function\n",
        "  cudaCrypt(newPassword, rawPassword);\n",
        "\n",
        "  // Compare the generated encrypted password with the target encrypted password\n",
        "  if (compareStr(newPassword, D_encPwd)) {\n",
        "    // Password matched, set flag to true\n",
        "    *D_passwordFound = true;\n",
        "    copyStr(D_encPwd, rawPassword);  // Store the decrypted password\n",
        "  }\n",
        "}\n",
        "\n",
        "int main(int argc, char **argv) {\n",
        "  // Define possible characters and digits for password cracking\n",
        "  char H_availableChars[26] = {'a','b','c','d','e','f','g','h','i','j','k','l','m','n','o','p','q','r','s','t','u','v','w','x','y','z'};\n",
        "  char H_availableDigits[26] = {'0','1','2','3','4','5','6','7','8','9'};\n",
        "  char H_newPassword[11];  // For user input\n",
        "  char * H_decryptedPwd = (char *)malloc(sizeof(char) * 11);  // Ensure we allocate enough space\n",
        "  bool * H_passwordFound = (bool *)malloc(sizeof(bool));  // Flag for password found\n",
        "\n",
        "  // Get the encrypted password from the user, ensuring it's not empty\n",
        "  while (1) {\n",
        "    printf(\"Enter the Encrypted password: \");\n",
        "    fgets(H_newPassword, sizeof(H_newPassword), stdin);\n",
        "    // Remove newline character if any\n",
        "    if (H_newPassword[strlen(H_newPassword) - 1] == '\\n') {\n",
        "      H_newPassword[strlen(H_newPassword) - 1] = '\\0';\n",
        "    }\n",
        "\n",
        "    if (strlen(H_newPassword) > 0) {\n",
        "      break;  // Exit loop if password is not empty\n",
        "    } else {\n",
        "      printf(\"The encryption cannot be empty. Please write your encrypted password: \\n\");\n",
        "    }\n",
        "  }\n",
        "\n",
        "  // Allocate memory on GPU (Device memory)\n",
        "  char * D_chars, * D_digits, * D_encPwd;\n",
        "  bool * D_passwordFound;\n",
        "  cudaMalloc((void**)&D_chars, sizeof(char) * 26);\n",
        "  cudaMemcpy(D_chars, H_availableChars, sizeof(char) * 26, cudaMemcpyHostToDevice);\n",
        "\n",
        "  cudaMalloc((void**)&D_digits, sizeof(char) * 26);\n",
        "  cudaMemcpy(D_digits, H_availableDigits, sizeof(char) * 26, cudaMemcpyHostToDevice);\n",
        "\n",
        "  cudaMalloc((void**)&D_encPwd, sizeof(char) * 11);  // Use correct length for encrypted password\n",
        "  cudaMemcpy(D_encPwd, H_newPassword, sizeof(char) * 11, cudaMemcpyHostToDevice);\n",
        "\n",
        "  // Allocate memory for passwordFound flag\n",
        "  cudaMalloc((void**)&D_passwordFound, sizeof(bool));\n",
        "  cudaMemcpy(D_passwordFound, H_passwordFound, sizeof(bool), cudaMemcpyHostToDevice);\n",
        "\n",
        "  // Start measuring time\n",
        "  cudaEvent_t startTime, endTime;\n",
        "  float elapsedTime;\n",
        "  cudaEventCreate(&startTime);\n",
        "  cudaEventCreate(&endTime);\n",
        "  cudaEventRecord(startTime);\n",
        "\n",
        "  // Launch the kernel to crack the password\n",
        "  findPassword<<<dim3(26, 26, 1), dim3(10, 10, 1)>>>(D_chars, D_digits, D_encPwd, D_passwordFound);\n",
        "  cudaDeviceSynchronize();  // Wait for the kernel to finish execution\n",
        "\n",
        "  cudaEventRecord(endTime);\n",
        "  cudaEventSynchronize(endTime);\n",
        "  cudaEventElapsedTime(&elapsedTime, startTime, endTime);\n",
        "\n",
        "  // Copy the flag back to host memory\n",
        "  cudaMemcpy(H_passwordFound, D_passwordFound, sizeof(bool), cudaMemcpyDeviceToHost);\n",
        "  cudaMemcpy(H_decryptedPwd, D_encPwd, sizeof(char) * 11, cudaMemcpyDeviceToHost);  // Correct length\n",
        "\n",
        "  if (*H_passwordFound) {\n",
        "    printf(\"\\nPassword Found!\");\n",
        "    printf(\"\\nDecrypted Password: %s\\n\", H_decryptedPwd);\n",
        "  } else {\n",
        "    printf(\"\\nPassword not found.\\n\");\n",
        "  }\n",
        "\n",
        "  printf(\"Time taken: %fs\\n\", elapsedTime / 1000);\n",
        "\n",
        "  // Clean up\n",
        "  free(H_decryptedPwd);\n",
        "  free(H_passwordFound);\n",
        "  cudaFree(D_chars);\n",
        "  cudaFree(D_digits);\n",
        "  cudaFree(D_encPwd);\n",
        "  cudaFree(D_passwordFound);\n",
        "  cudaEventDestroy(startTime);\n",
        "  cudaEventDestroy(endTime);\n",
        "\n",
        "  return 0;\n",
        "}"
      ],
      "metadata": {
        "colab": {
          "base_uri": "https://localhost:8080/"
        },
        "id": "VCL7o5Aje9Qk",
        "outputId": "80495a14-6aff-458b-d2c8-abae1e0d0701"
      },
      "execution_count": 12,
      "outputs": [
        {
          "output_type": "stream",
          "name": "stdout",
          "text": [
            "Overwriting passwordCrack.cu\n"
          ]
        }
      ]
    },
    {
      "cell_type": "code",
      "source": [
        "!nvcc passwordCrack.cu -o password_cracker"
      ],
      "metadata": {
        "id": "EVzCAr69fEQV"
      },
      "execution_count": 13,
      "outputs": []
    },
    {
      "cell_type": "code",
      "source": [
        "!./password_cracker"
      ],
      "metadata": {
        "colab": {
          "base_uri": "https://localhost:8080/"
        },
        "id": "P8dRiNEGfJKH",
        "outputId": "31a6e2bc-5077-4565-cde7-4dbd67304407"
      },
      "execution_count": 15,
      "outputs": [
        {
          "output_type": "stream",
          "name": "stdout",
          "text": [
            "Enter the Encrypted password: jfismo4062\n",
            "\n",
            "Password Found!\n",
            "Decrypted Password: hp22\n",
            "Time taken: 0.000184s\n"
          ]
        }
      ]
    },
    {
      "cell_type": "markdown",
      "source": [
        "CUDA program ***passwordCrack.cu*** simulates password cracking through brute force, specifically for a password encryption scheme.\n",
        "\n",
        "**Overview**\n",
        "\n",
        "The program works as follows:\n",
        "\n",
        "* Takes an encrypted password as input from the user.\n",
        "\n",
        "* Uses CUDA to generate all possible combinations of lowercase letters (a-z) and digits (0-9).\n",
        "\n",
        "* Encrypts each combination using a custom algorithm and compares it to the input password.\n",
        "\n",
        "* If a match is found, the program outputs the decrypted password.\n",
        "\n",
        "* Measures and displays the time taken for the process.\n",
        "\n",
        "**How it works**\n",
        "\n",
        "**1. User Input:**\n",
        "\n",
        "* The user provides an encrypted password (a string of 10 characters generated using a specific encryption logic).\n",
        "* The program ensures the input is valid (not empty) and stores it for further processing.\n",
        "\n",
        "**2. Prepare Data for GPU:**\n",
        "\n",
        "* The program defines all possible lowercase letters (a to z) and digits (0 to 9).\n",
        "* These characters and the encrypted password are copied to the GPU's memory. This is necessary because the GPU operates independently of the CPU.\n",
        "\n",
        "**3. Password Generation and Encryption:**\n",
        "\n",
        "* The password to be cracked has a specific format: two letters followed by two digits (e.g., ab12).\n",
        "* The program uses the GPU to generate all possible combinations of such passwords. Each combination is then encrypted using the same logic used to create the user's encrypted password.\n",
        "\n",
        "**4. Comparison**:\n",
        "\n",
        "* The encrypted version of each generated password is compared with the user's encrypted password.\n",
        "* If a match is found, the corresponding raw password is saved, and a flag (passwordFound) is set to indicate success.\n",
        "\n",
        "**5. Parallel Execution:**\n",
        "\n",
        "* The GPU's threads handle different combinations simultaneously. For example:\n",
        "* One thread might check aa00, another aa01, and so on.\n",
        "This parallel processing greatly speeds up the task, as thousands of combinations can be checked simultaneously.\n",
        "\n",
        "**6. Result Collection:**\n",
        "\n",
        "Once the kernel (the part of the program that runs on the GPU) finishes execution, the results (whether the password was found and what it is) are copied back to the CPU's memory.\n",
        "\n",
        "**7. Output:**\n",
        "\n",
        "If the password is found, it is displayed to the user.\n",
        "The program also calculates and displays the time taken to crack the password."
      ],
      "metadata": {
        "id": "iKWZRBXeUCNP"
      }
    },
    {
      "cell_type": "markdown",
      "source": [
        "\n",
        "**Functions and GPU Kernels:**\n",
        "\n",
        "***copyStr():***\n",
        "\n",
        "A device function to copy a string from one location to another. It is used to copy strings between device memory locations.\n",
        "\n",
        "***compareStr():***\n",
        "\n",
        "A device function that compares two strings for equality. It compares character by character up to a specified length (default is 11 characters).\n",
        "\n",
        "\n",
        "***cudaCrypt():***\n",
        "\n",
        "A device function that performs encryption on a raw password. It encrypts the password by modifying each character using simple arithmetic operations (adding/subtracting values) and ensures the characters remain within certain ranges (lowercase 'a' to 'z' for letters and '0' to '9' for digits). It does this for 10 characters of the password.\n",
        "\n",
        "***findPassword():***\n",
        "\n",
        " A kernel function that generates all possible combinations of characters and digits for the password, encrypts each combination using the cudaCrypt function, and compares it with a target encrypted password. If the password matches, it sets a flag (D_passwordFound) and stores the decrypted password in the device memory.\n",
        "\n",
        "**2. Host Code (Main Program):**\n",
        "\n",
        "***Password Input:***\n",
        "\n",
        "The user is prompted to enter an encrypted password. The program ensures that the password is not empty and reads it into H_newPassword.\n",
        "\n",
        "***Memory Allocation:***\n",
        "\n",
        "Memory is allocated on both the host (CPU) and device (GPU) for necessary data:\n",
        "H_availableChars and H_availableDigits hold the set of possible characters and digits to try for cracking the password. D_chars, D_digits, D_encPwd, and D_passwordFound hold the corresponding device versions of these arrays.\n",
        "\n",
        "***Kernel Launch:***\n",
        "\n",
        "The findPassword kernel is launched with a grid size of 26x26 (for 26 characters in the alphabet), and each thread block attempts to generate a potential password by picking a combination of characters and digits. The grid and thread indices are used to select characters and digits for each password attempt.\n",
        "\n",
        "***Time Measurement:***\n",
        "\n",
        "The program uses CUDA events (cudaEvent_t) to measure the time taken to execute the kernel and crack the password.\n",
        "\n",
        "***Result Handling:***\n",
        "\n",
        "If the password is found, the program prints the encrypted and decrypted passwords; otherwise, it reports that the password was not found. The time taken to crack the password is also displayed.\n",
        "\n",
        "**CUDA Memory Management and Synchronization**\n",
        "\n",
        "***Memory Allocation:***\n",
        "\n",
        "The program allocates memory on the GPU for the character set, digits, encrypted password, and password found flag.\n",
        "\n",
        "***Memory Copy:***\n",
        "\n",
        "The data is transferred between the host and the device using cudaMemcpy.\n",
        "\n",
        "***Kernel Execution:***\n",
        "\n",
        "The findPassword kernel is launched on the GPU, where each thread attempts a password combination.\n",
        "\n",
        "***Synchronization:***\n",
        "\n",
        "The program uses cudaDeviceSynchronize() to ensure that the kernel finishes execution before proceeding."
      ],
      "metadata": {
        "id": "-8JxUmi_cBDe"
      }
    },
    {
      "cell_type": "markdown",
      "source": [
        "\n",
        "\n",
        "**Prerequisites:**\n",
        "\n",
        "* CUDA-enabled GPU.\n",
        "\n",
        "* CUDA Toolkit installed.\n"
      ],
      "metadata": {
        "id": "5Ok7h28ZSubx"
      }
    },
    {
      "cell_type": "markdown",
      "source": [
        "## **To obtain encrypted version of the password.**"
      ],
      "metadata": {
        "id": "9QhGKqJQV3OL"
      }
    },
    {
      "cell_type": "markdown",
      "source": [
        "**Compilation:**"
      ],
      "metadata": {
        "id": "kpXErnxtTGVi"
      }
    },
    {
      "cell_type": "code",
      "source": [
        "!nvcc Encrypt.cu -o Encrypt"
      ],
      "metadata": {
        "id": "9Q5OkdfSVMv6"
      },
      "execution_count": null,
      "outputs": []
    },
    {
      "cell_type": "markdown",
      "source": [
        "**Execution:**"
      ],
      "metadata": {
        "id": "9-eDCoIpVSIl"
      }
    },
    {
      "cell_type": "markdown",
      "source": [],
      "metadata": {
        "id": "pkp8MkCuVzm7"
      }
    },
    {
      "cell_type": "code",
      "source": [
        "!./Encrypt <password>"
      ],
      "metadata": {
        "id": "6JNJahyIVVaz"
      },
      "execution_count": null,
      "outputs": []
    },
    {
      "cell_type": "markdown",
      "source": [
        "Replace <password> with 2 letters and 2 digits for example: ab00"
      ],
      "metadata": {
        "id": "PyeKunMCVVIs"
      }
    },
    {
      "cell_type": "markdown",
      "source": [
        "**Example**"
      ],
      "metadata": {
        "id": "3inDnAG-Vkkd"
      }
    },
    {
      "cell_type": "markdown",
      "source": [
        "## **To obtain the decrypted password.**\n",
        "\n",
        "\n",
        "\n",
        "\n",
        "\n",
        "\n",
        "\n",
        "\n",
        "\n",
        "\n",
        "\n",
        "\n"
      ],
      "metadata": {
        "id": "Izo9taA9V8Qw"
      }
    },
    {
      "cell_type": "markdown",
      "source": [
        "**Compilation:**"
      ],
      "metadata": {
        "id": "c1KDygBWVQqA"
      }
    },
    {
      "cell_type": "code",
      "source": [
        "!nvcc passwordCrack.cu -o passwordCrack"
      ],
      "metadata": {
        "id": "X6PHtte-SuN-"
      },
      "execution_count": null,
      "outputs": []
    },
    {
      "cell_type": "markdown",
      "source": [
        "**Execution:**"
      ],
      "metadata": {
        "id": "ytabpF7gTJ7Y"
      }
    },
    {
      "cell_type": "code",
      "source": [
        "!./passwordCrack"
      ],
      "metadata": {
        "id": "8nW1luaUTMrr"
      },
      "execution_count": null,
      "outputs": []
    },
    {
      "cell_type": "markdown",
      "source": [
        "Enter the encrypted password when prompted."
      ],
      "metadata": {
        "id": "EHsMYgzaTTzu"
      }
    }
  ]
}